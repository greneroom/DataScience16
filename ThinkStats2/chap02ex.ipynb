{
 "cells": [
  {
   "cell_type": "markdown",
   "metadata": {},
   "source": [
    "Exercise from Think Stats, 2nd Edition (thinkstats2.com)<br>\n",
    "Allen Downey\n",
    "\n",
    "Read the female respondent file and display the variables names."
   ]
  },
  {
   "cell_type": "code",
   "execution_count": 2,
   "metadata": {
    "collapsed": false
   },
   "outputs": [
    {
     "data": {
      "text/plain": [
       "Index([         u'caseid',         u'rscrinf',        u'rdormres',\n",
       "              u'rostscrn',     u'rscreenhisp',     u'rscreenrace',\n",
       "                 u'age_a',           u'age_r',         u'cmbirth',\n",
       "               u'agescrn', \n",
       "       ...\n",
       "            u'pubassis_i',         u'basewgt', u'adj_mod_basewgt',\n",
       "              u'finalwgt',          u'secu_r',            u'sest',\n",
       "               u'cmintvw',         u'cmlstyr',      u'screentime',\n",
       "             u'intvlngth'],\n",
       "      dtype='object', length=3087)"
      ]
     },
     "execution_count": 2,
     "metadata": {},
     "output_type": "execute_result"
    }
   ],
   "source": [
    "%matplotlib inline\n",
    "\n",
    "import chap01soln\n",
    "resp = chap01soln.ReadFemResp()\n",
    "resp.columns"
   ]
  },
  {
   "cell_type": "markdown",
   "metadata": {},
   "source": [
    "Make a histogram of <tt>totincr</tt> the total income for the respondent's family.  To interpret the codes see the [codebook](http://www.icpsr.umich.edu/nsfg6/Controller?displayPage=labelDetails&fileCode=MALE&section=R&subSec=7958&srtLabel=609776)."
   ]
  },
  {
   "cell_type": "code",
   "execution_count": 3,
   "metadata": {
    "collapsed": false
   },
   "outputs": [
    {
     "name": "stdout",
     "output_type": "stream",
     "text": [
      "<class 'thinkstats2.Hist'>\n"
     ]
    }
   ],
   "source": [
    "import thinkstats2\n",
    "hist = thinkstats2.Hist(resp.totincr)\n",
    "print type(hist)"
   ]
  },
  {
   "cell_type": "markdown",
   "metadata": {},
   "source": [
    "Display the histogram."
   ]
  },
  {
   "cell_type": "code",
   "execution_count": 4,
   "metadata": {
    "collapsed": false
   },
   "outputs": [
    {
     "data": {
      "image/png": "[encoded data removed]",
      "text/plain": [
       "<matplotlib.figure.Figure at 0x7f33451c49d0>"
      ]
     },
     "metadata": {},
     "output_type": "display_data"
    },
    {
     "data": {
      "text/plain": [
       "<matplotlib.figure.Figure at 0x7f3344b87b90>"
      ]
     },
     "metadata": {},
     "output_type": "display_data"
    }
   ],
   "source": [
    "import thinkplot\n",
    "thinkplot.Hist(hist, label='totincr')\n",
    "thinkplot.Show()"
   ]
  },
  {
   "cell_type": "markdown",
   "metadata": {},
   "source": [
    "Make a histogram of <tt>age_r</tt>, the respondent's age at the time of interview."
   ]
  },
  {
   "cell_type": "code",
   "execution_count": 5,
   "metadata": {
    "collapsed": false
   },
   "outputs": [
    {
     "data": {
      "image/png": "[encoded data removed]",
      "text/plain": [
       "<matplotlib.figure.Figure at 0x7f33451c4510>"
      ]
     },
     "metadata": {},
     "output_type": "display_data"
    },
    {
     "data": {
      "text/plain": [
       "<matplotlib.figure.Figure at 0x7f33451c4290>"
      ]
     },
     "metadata": {},
     "output_type": "display_data"
    }
   ],
   "source": [
    "hist = thinkstats2.Hist(resp.age_r)\n",
    "thinkplot.Hist(hist, label='age_r')\n",
    "thinkplot.Show()"
   ]
  },
  {
   "cell_type": "markdown",
   "metadata": {},
   "source": [
    "Make a histogram of <tt>numfmhh</tt>, the number of people in the respondent's household."
   ]
  },
  {
   "cell_type": "code",
   "execution_count": 9,
   "metadata": {
    "collapsed": false
   },
   "outputs": [
    {
     "data": {
      "image/png": "[encoded data removed]",
      "text/plain": [
       "<matplotlib.figure.Figure at 0x7f3344fba610>"
      ]
     },
     "metadata": {},
     "output_type": "display_data"
    },
    {
     "data": {
      "text/plain": [
       "<matplotlib.figure.Figure at 0x7f3344ef97d0>"
      ]
     },
     "metadata": {},
     "output_type": "display_data"
    }
   ],
   "source": [
    "import seaborn as sns\n",
    "thinkplot.Hist(thinkstats2.Hist(resp.numfmhh), label = 'numfmhh')\n",
    "thinkplot.Show()"
   ]
  },
  {
   "cell_type": "markdown",
   "metadata": {},
   "source": [
    "Make a histogram of <tt>parity</tt>, the number children the respondent has borne.  How would you describe this distribution?"
   ]
  },
  {
   "cell_type": "code",
   "execution_count": null,
   "metadata": {
    "collapsed": false
   },
   "outputs": [],
   "source": [
    "thinkplot.Hist(thinkstats2.Hist(resp.numfmhh), label = 'numfmhh')\n",
    "thinkplot.Show()"
   ]
  },
  {
   "cell_type": "markdown",
   "metadata": {},
   "source": [
    "Use Hist.Largest to find the largest values of <tt>parity</tt>."
   ]
  },
  {
   "cell_type": "code",
   "execution_count": 16,
   "metadata": {
    "collapsed": false
   },
   "outputs": [
    {
     "name": "stdout",
     "output_type": "stream",
     "text": [
      "Value: 22, Count: 1\n",
      "Value: 16, Count: 1\n",
      "Value: 10, Count: 3\n",
      "Value: 9, Count: 2\n",
      "Value: 8, Count: 8\n",
      "Value: 7, Count: 15\n",
      "Value: 6, Count: 29\n",
      "Value: 5, Count: 95\n",
      "Value: 4, Count: 309\n",
      "Value: 3, Count: 828\n"
     ]
    }
   ],
   "source": [
    "from thinkstats2 import Hist\n",
    "largest = Hist.Largest(Hist(resp.parity))\n",
    "for val, count in largest:\n",
    "    print \"Value: \" + str(val) + \", Count: \" + str(count)"
   ]
  },
  {
   "cell_type": "markdown",
   "metadata": {},
   "source": [
    "Use <tt>totincr</tt> to select the respondents with the highest income.  Compute the distribution of <tt>parity</tt> for just the high income respondents."
   ]
  },
  {
   "cell_type": "code",
   "execution_count": 17,
   "metadata": {
    "collapsed": false
   },
   "outputs": [
    {
     "data": {
      "image/png": "[encoded data removed]",
      "text/plain": [
       "<matplotlib.figure.Figure at 0x7f334478e390>"
      ]
     },
     "metadata": {},
     "output_type": "display_data"
    }
   ],
   "source": [
    "high_income = resp[resp.totincr == 14]\n",
    "thinkplot.Hist(Hist(high_income.parity), label = 'parity')"
   ]
  },
  {
   "cell_type": "markdown",
   "metadata": {},
   "source": [
    "Find the largest parities for high income respondents."
   ]
  },
  {
   "cell_type": "code",
   "execution_count": 18,
   "metadata": {
    "collapsed": false
   },
   "outputs": [
    {
     "name": "stdout",
     "output_type": "stream",
     "text": [
      "Value: 8, Count: 1\n",
      "Value: 7, Count: 1\n",
      "Value: 5, Count: 5\n",
      "Value: 4, Count: 19\n",
      "Value: 3, Count: 123\n",
      "Value: 2, Count: 267\n",
      "Value: 1, Count: 229\n",
      "Value: 0, Count: 515\n"
     ]
    }
   ],
   "source": [
    "largest = Hist.Largest(Hist(high_income.parity))\n",
    "for val, count in largest:\n",
    "    print \"Value: \" + str(val) + \", Count: \" + str(count)"
   ]
  },
  {
   "cell_type": "markdown",
   "metadata": {},
   "source": [
    "Compare the mean <tt>parity</tt> for high income respondents and others."
   ]
  },
  {
   "cell_type": "code",
   "execution_count": 22,
   "metadata": {
    "collapsed": false
   },
   "outputs": [
    {
     "name": "stdout",
     "output_type": "stream",
     "text": [
      "Mean parity for high income: 1.07586206897\n",
      "Mean parity for others: 1.24957581367\n"
     ]
    }
   ],
   "source": [
    "others = resp[resp.totincr != 14]\n",
    "print \"Mean parity for high income: \" + str(high_income.parity.mean())\n",
    "print \"Mean parity for others: \" + str(others.parity.mean())"
   ]
  },
  {
   "cell_type": "markdown",
   "metadata": {},
   "source": [
    "Investigate any other variables that look interesting."
   ]
  },
  {
   "cell_type": "code",
   "execution_count": 53,
   "metadata": {
    "collapsed": false
   },
   "outputs": [
    {
     "name": "stdout",
     "output_type": "stream",
     "text": [
      "Proportion of high income respondents who have had sex: 0.889655172414\n",
      "Proportion of other respondents who have had sex: 0.887397809656\n",
      "\n",
      "Healthcare status proportions for high-income:\n",
      "1    0.037931\n",
      "2    0.916379\n",
      "3    0.019828\n",
      "4    0.025862\n",
      "dtype: float64\n",
      "\n",
      "for others:\n",
      "1    0.194663\n",
      "2    0.581984\n",
      "3    0.147771\n",
      "4    0.075582\n",
      "dtype: float64\n"
     ]
    }
   ],
   "source": [
    "hi_vc = high_income.hadsex.value_counts()\n",
    "other_vc = others.hadsex.value_counts()\n",
    "\n",
    "hi_vc = hi_vc.apply(lambda x: float(x) / hi_vc.sum())\n",
    "other_vc = other_vc.apply(lambda x: float(x) / other_vc.sum())\n",
    "\n",
    "print \"Proportion of high income respondents who have had sex: \" + str(hi_vc[1])\n",
    "print \"Proportion of other respondents who have had sex: \" + str(other_vc[1])\n",
    "print\n",
    "\n",
    "hi_vc = high_income.insuranc.value_counts().sort_index()\n",
    "other_vc = others.insuranc.value_counts().sort_index()\n",
    "\n",
    "hi_vc = hi_vc.apply(lambda x: float(x) / hi_vc.sum())\n",
    "other_vc = other_vc.apply(lambda x: float(x) / other_vc.sum())\n",
    "\n",
    "print \"Healthcare status proportions for high-income:\"\n",
    "\n",
    "print hi_vc\n",
    "\n",
    "print\n",
    "print \"for others:\"\n",
    "\n",
    "print other_vc"
   ]
  },
  {
   "cell_type": "markdown",
   "metadata": {
    "collapsed": false
   },
   "source": [
    "### Exercise 4\n",
    "\n",
    "Using the variable totalwgt_lb, investigate whether first babies are lighter or heavier than others. Compute Cohen’s d to quantify the difference between the groups. How does it compare to the difference in pregnancy length? "
   ]
  },
  {
   "cell_type": "code",
   "execution_count": 57,
   "metadata": {
    "collapsed": false,
    "scrolled": true
   },
   "outputs": [
    {
     "name": "stdout",
     "output_type": "stream",
     "text": [
      "Cohen's d for totalwgt_lb: -0.0886729270726\n",
      "Cohen's d for prglngth: 0.0288790446544\n"
     ]
    }
   ],
   "source": [
    "def CohenEffectSize(group1, group2):\n",
    "    diff = group1.mean() - group2.mean()\n",
    "\n",
    "    var1 = group1.var()\n",
    "    var2 = group2.var()\n",
    "    n1, n2 = len(group1), len(group2)\n",
    "\n",
    "    pooled_var = (n1 * var1 + n2 * var2) / (n1 + n2)\n",
    "    d = diff / math.sqrt(pooled_var)\n",
    "    return d\n",
    "\n",
    "import nsfg\n",
    "import math\n",
    "\n",
    "fempreg = nsfg.ReadFemPreg()\n",
    "\n",
    "firsts = fempreg[fempreg.birthord==1]\n",
    "others = fempreg[fempreg.birthord>1]\n",
    "\n",
    "print \"Cohen's d for totalwgt_lb: \" + str(CohenEffectSize(firsts.totalwgt_lb, others.totalwgt_lb))\n",
    "print \"Cohen's d for prglngth: \" + str(CohenEffectSize(firsts.prglngth, others.prglngth))"
   ]
  },
  {
   "cell_type": "code",
   "execution_count": null,
   "metadata": {
    "collapsed": true
   },
   "outputs": [],
   "source": []
  }
 ],
 "metadata": {
  "kernelspec": {
   "display_name": "Python 2",
   "language": "python",
   "name": "python2"
  },
  "language_info": {
   "codemirror_mode": {
    "name": "ipython",
    "version": 2
   },
   "file_extension": ".py",
   "mimetype": "text/x-python",
   "name": "python",
   "nbconvert_exporter": "python",
   "pygments_lexer": "ipython2",
   "version": "2.7.6"
  }
 },
 "nbformat": 4,
 "nbformat_minor": 0
}
