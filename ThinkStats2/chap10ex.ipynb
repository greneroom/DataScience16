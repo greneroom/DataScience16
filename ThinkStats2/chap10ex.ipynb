{
 "cells": [
  {
   "cell_type": "markdown",
   "metadata": {},
   "source": [
    "Exercise from Think Stats, 2nd Edition (thinkstats2.com)<br>\n",
    "Allen Downey"
   ]
  },
  {
   "cell_type": "code",
   "execution_count": 1,
   "metadata": {
    "collapsed": false
   },
   "outputs": [],
   "source": [
    "%matplotlib inline"
   ]
  },
  {
   "cell_type": "markdown",
   "metadata": {},
   "source": [
    "Using the data from the BRFSS, compute the linear least squares fit for log(weight) versus height. How would you best present the estimated parameters for a model like this where one of the variables is log-transformed? If you were trying to guess someone’s weight, how much would it help to know their height? "
   ]
  },
  {
   "cell_type": "code",
   "execution_count": 2,
   "metadata": {
    "collapsed": false
   },
   "outputs": [],
   "source": [
    "import brfss\n",
    "from matplotlib import pyplot as plt\n",
    "import seaborn as sns\n",
    "import math"
   ]
  },
  {
   "cell_type": "code",
   "execution_count": 3,
   "metadata": {
    "collapsed": true
   },
   "outputs": [],
   "source": [
    "df = brfss.ReadBrfss()"
   ]
  },
  {
   "cell_type": "code",
   "execution_count": 4,
   "metadata": {
    "collapsed": false
   },
   "outputs": [],
   "source": [
    "df = df.dropna(subset=['wtkg2', 'htm3'])"
   ]
  },
  {
   "cell_type": "code",
   "execution_count": 25,
   "metadata": {
    "collapsed": false
   },
   "outputs": [
    {
     "data": {
      "text/plain": [
       "0         157\n",
       "1         163\n",
       "3         170\n",
       "4         185\n",
       "5         183\n",
       "6         157\n",
       "7         178\n",
       "8         178\n",
       "9         173\n",
       "10        170\n",
       "11        168\n",
       "12        175\n",
       "13        183\n",
       "14        175\n",
       "15        157\n",
       "16        168\n",
       "17        155\n",
       "18        160\n",
       "19        165\n",
       "20        157\n",
       "21        155\n",
       "22        165\n",
       "23        183\n",
       "24        160\n",
       "25        157\n",
       "26        173\n",
       "27        157\n",
       "28        157\n",
       "29        165\n",
       "30        165\n",
       "         ... \n",
       "414476    170\n",
       "414477    180\n",
       "414478    163\n",
       "414479    160\n",
       "414480    178\n",
       "414481    178\n",
       "414482    157\n",
       "414483    160\n",
       "414484    170\n",
       "414485    157\n",
       "414486    168\n",
       "414488    175\n",
       "414489    163\n",
       "414490    170\n",
       "414492    157\n",
       "414493    170\n",
       "414494    152\n",
       "414495    165\n",
       "414496    157\n",
       "414497    163\n",
       "414498    173\n",
       "414499    173\n",
       "414500    168\n",
       "414501    175\n",
       "414503    168\n",
       "414504    191\n",
       "414505    170\n",
       "414506    178\n",
       "414507    157\n",
       "414508    178\n",
       "Name: htm3, dtype: float64"
      ]
     },
     "execution_count": 25,
     "metadata": {},
     "output_type": "execute_result"
    }
   ],
   "source": [
    "weight = df.wtkg2\n",
    "log_weight = weight.apply(math.log)\n",
    "height = df.htm3"
   ]
  },
  {
   "cell_type": "code",
   "execution_count": 24,
   "metadata": {
    "collapsed": false
   },
   "outputs": [
    {
     "name": "stdout",
     "output_type": "stream",
     "text": [
      "Slope: 0.012, Intercept: 2.29\n"
     ]
    }
   ],
   "source": [
    "from thinkstats2 import LeastSquares\n",
    "inter, slope = LeastSquares(height, log_weight)\n",
    "print \"Slope: %.3f, Intercept: %.2f\" % (slope, inter)"
   ]
  },
  {
   "cell_type": "code",
   "execution_count": 9,
   "metadata": {
    "collapsed": false
   },
   "outputs": [],
   "source": [
    "from math import exp\n",
    "predictions = (slope * height + inter).apply(exp)"
   ]
  },
  {
   "cell_type": "code",
   "execution_count": 22,
   "metadata": {
    "collapsed": false
   },
   "outputs": [
    {
     "name": "stdout",
     "output_type": "stream",
     "text": [
      "RME Using model: 16.9\n",
      "RME Without model: 19.5\n",
      "Percentage improvement: 13%\n",
      "R^2 value: 0.26\n"
     ]
    }
   ],
   "source": [
    "from sklearn.metrics import mean_squared_error, r2_score\n",
    "from math import sqrt\n",
    "from numpy import std\n",
    "\n",
    "rms = sqrt(mean_squared_error(weight, predictions))\n",
    "print \"RME Using model: %.1f\" % rms\n",
    "print \"RME Without model: %.1f\" % std(weight)\n",
    "print \"Percentage improvement: %i%%\" % (100 * (std(weight) - rms) / std(weight))\n",
    "print \"R^2 value: %.2f\" % r2_score(weight, predictions)"
   ]
  },
  {
   "cell_type": "markdown",
   "metadata": {},
   "source": [
    "## Interpretation\n",
    "\n",
    "Our model came up with the equation `weight = 9.84 * e^(.0122 * height)`. This means for ever 7.8 centimeters height increases, weight increases 10%. If we know how tall someone is, we can predict their weight with an additional accuracy of 13%"
   ]
  },
  {
   "cell_type": "markdown",
   "metadata": {},
   "source": [
    "## Clarifying Questions\n",
    "\n",
    "Use this space to ask questions regarding the content covered in the reading. These questions should be restricted to helping you better understand the material. For questions that push beyond what is in the reading, use the next answer field. If you don't have a fully formed question, but are generally having a difficult time with a topic, you can indicate that here as well."
   ]
  },
  {
   "cell_type": "markdown",
   "metadata": {},
   "source": []
  },
  {
   "cell_type": "markdown",
   "metadata": {},
   "source": [
    "## Enrichment Questions\n",
    "\n",
    "Use this space to ask any questions that go beyond (but are related to) the material presented in this reading. Perhaps there is a particular topic you'd like to see covered in more depth. Perhaps you'd like to know how to use a library in a way that wasn't show in the reading. One way to think about this is what additional topics would you want covered in the next class (or addressed in a followup e-mail to the class). I'm a little fuzzy on what stuff will likely go here, so we'll see how things evolve."
   ]
  },
  {
   "cell_type": "markdown",
   "metadata": {},
   "source": []
  },
  {
   "cell_type": "markdown",
   "metadata": {},
   "source": [
    "## Additional Resources / Explorations\n",
    "\n",
    "If you found any useful resources, or tried some useful exercises that you'd like to report please do so here. Let us know what you did, what you learned, and how others can replicate it."
   ]
  },
  {
   "cell_type": "markdown",
   "metadata": {},
   "source": []
  }
 ],
 "metadata": {
  "kernelspec": {
   "display_name": "Python 2",
   "language": "python",
   "name": "python2"
  },
  "language_info": {
   "codemirror_mode": {
    "name": "ipython",
    "version": 2
   },
   "file_extension": ".py",
   "mimetype": "text/x-python",
   "name": "python",
   "nbconvert_exporter": "python",
   "pygments_lexer": "ipython2",
   "version": "2.7.6"
  }
 },
 "nbformat": 4,
 "nbformat_minor": 0
}
