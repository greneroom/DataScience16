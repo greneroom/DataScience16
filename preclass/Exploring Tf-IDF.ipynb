{
 "cells": [
  {
   "cell_type": "markdown",
   "metadata": {},
   "source": [
    "## Exploring Tf-IDF\n",
    "\n",
    "In this notebook you will be exploring the computation of the Tf-IDF feature using a very popular dataset called 20 newsgroups.\n",
    "\n",
    "The resources you should use to complete this notebook are:\n",
    "1.  https://en.wikipedia.org/wiki/Tf%E2%80%93idf\n",
    "2.  http://www.tfidf.com/"
   ]
  },
  {
   "cell_type": "code",
   "execution_count": 1,
   "metadata": {
    "collapsed": false
   },
   "outputs": [
    {
     "name": "stdout",
     "output_type": "stream",
     "text": [
      "the 20 newsgroups by date dataset\n",
      "Number of posts 11314\n"
     ]
    },
    {
     "data": {
      "image/png": "[encoded data removed]",
      "text/plain": [
       "<matplotlib.figure.Figure at 0x7f02c80fdc50>"
      ]
     },
     "metadata": {},
     "output_type": "display_data"
    },
    {
     "name": "stdout",
     "output_type": "stream",
     "text": [
      "First post!\n",
      "I was wondering if anyone out there could enlighten me on this car I saw\n",
      "the other day. It was a 2-door sports car, looked to be from the late 60s/\n",
      "early 70s. It was called a Bricklin. The doors were really small. In addition,\n",
      "the front bumper was separate from the rest of the body. This is \n",
      "all I know. If anyone can tellme a model name, engine specs, years\n",
      "of production, where this car is made, history, or whatever info you\n",
      "have on this funky looking car, please e-mail.\n"
     ]
    }
   ],
   "source": [
    "%matplotlib inline\n",
    "from sklearn.datasets import fetch_20newsgroups\n",
    "\n",
    "data = fetch_20newsgroups(subset='train', remove=('headers', 'footers', 'quotes'))\n",
    "\n",
    "post_texts = data.data\n",
    "news_group_ids = data.target\n",
    "\n",
    "print data.description\n",
    "\n",
    "print \"Number of posts\", len(data.data)\n",
    "import matplotlib.pyplot as plt\n",
    "plt.hist(data.target, bins=20)\n",
    "plt.xlabel('Newsgroup Id')\n",
    "plt.ylabel('Number of Posts')\n",
    "plt.show()\n",
    "\n",
    "print \"First post!\"\n",
    "print data.data[0]"
   ]
  },
  {
   "cell_type": "markdown",
   "metadata": {},
   "source": [
    "Next, you will be writing a function to compute the term frequency part of [Tf-IDF](https://en.wikipedia.org/wiki/Tf%E2%80%93idf).  It's up to you how fancy to make this function.  In my simple version, I used split after first removing leading or trailing punctuation (I used the `strip` function) and also converting the words to lower case."
   ]
  },
  {
   "cell_type": "code",
   "execution_count": 2,
   "metadata": {
    "collapsed": false
   },
   "outputs": [
    {
     "data": {
      "text/plain": [
       "[(u'the', 6),\n",
       " (u'was', 4),\n",
       " (u'car', 4),\n",
       " (u'this', 4),\n",
       " (u'a', 3),\n",
       " (u'i', 3),\n",
       " (u'of', 2),\n",
       " (u'is', 2),\n",
       " (u'it', 2),\n",
       " (u'from', 2),\n",
       " (u'anyone', 2),\n",
       " (u'if', 2),\n",
       " (u'on', 2),\n",
       " (u's', 2),\n",
       " (u'model', 1),\n",
       " (u'all', 1),\n",
       " (u'be', 1),\n",
       " (u'engine', 1),\n",
       " (u'rest', 1),\n",
       " (u'bumper', 1),\n",
       " (u'really', 1),\n",
       " (u'have', 1),\n",
       " (u'in', 1),\n",
       " (u'where', 1),\n",
       " (u'saw', 1),\n",
       " (u'specs', 1),\n",
       " (u'enlighten', 1),\n",
       " (u'late', 1),\n",
       " (u'tellme', 1),\n",
       " (u'bricklin', 1),\n",
       " (u'there', 1),\n",
       " (u'please', 1),\n",
       " (u'funky', 1),\n",
       " (u'sports', 1),\n",
       " (u'to', 1),\n",
       " (u'other', 1),\n",
       " (u'wondering', 1),\n",
       " (u'e-mail', 1),\n",
       " (u'you', 1),\n",
       " (u'body', 1),\n",
       " (u'door', 1),\n",
       " (u'doors', 1),\n",
       " (u'separate', 1),\n",
       " (u'addition', 1),\n",
       " (u'early', 1),\n",
       " (u'whatever', 1),\n",
       " (u'know', 1),\n",
       " (u'front', 1),\n",
       " (u'years', 1),\n",
       " (u'day', 1),\n",
       " (u'production', 1),\n",
       " (u'me', 1),\n",
       " (u'made', 1),\n",
       " (u'name', 1),\n",
       " (u'could', 1),\n",
       " (u'or', 1),\n",
       " (u'looked', 1),\n",
       " (u'info', 1),\n",
       " (u'can', 1),\n",
       " (u'were', 1),\n",
       " (u'small', 1),\n",
       " (u'looking', 1),\n",
       " (u'out', 1),\n",
       " (u'called', 1),\n",
       " (u'history', 1)]"
      ]
     },
     "execution_count": 2,
     "metadata": {},
     "output_type": "execute_result"
    }
   ],
   "source": [
    "import re\n",
    "from collections import Counter\n",
    "\n",
    "def get_word_list(s):\n",
    "    exp = re.compile(r\"[a-z'][a-z'-]*\")  # all letters and hyphens and apostrophes\n",
    "    return re.findall(exp, s.lower())\n",
    "\n",
    "def tf(text):\n",
    "    words = get_word_list(text)\n",
    "    return Counter(words).most_common()\n",
    "tf(data.data[0])"
   ]
  },
  {
   "cell_type": "markdown",
   "metadata": {},
   "source": [
    "Next, you will be writing a function to compute the inverse document frequency part of [Tf-IDF](https://en.wikipedia.org/wiki/Tf%E2%80%93idf)."
   ]
  },
  {
   "cell_type": "code",
   "execution_count": 3,
   "metadata": {
    "collapsed": false
   },
   "outputs": [
    {
     "name": "stdout",
     "output_type": "stream",
     "text": [
      "Lowest IDF (most common)\n",
      "(u'the', 0.17727861062442485)\n",
      "(u'to', 0.29045534462308825)\n",
      "(u'a', 0.2992387838812905)\n",
      "(u'and', 0.37551336540577024)\n",
      "(u'of', 0.3885939119438047)\n",
      "(u'i', 0.43256582379231967)\n",
      "(u'in', 0.4673555563769279)\n",
      "(u'is', 0.4761387265961133)\n",
      "(u'that', 0.5585557171647734)\n",
      "(u'it', 0.5783737957546129)\n",
      "\n",
      "Highest IDF (least common)\n",
      "(u'jawbone', 9.333796175903101)\n",
      "(u'footloose', 9.333796175903101)\n",
      "(u'false-alarms', 9.333796175903101)\n",
      "(u\"'l'\", 9.333796175903101)\n",
      "(u\"mornin'\", 9.333796175903101)\n",
      "(u'xkgyt', 9.333796175903101)\n",
      "(u'nigmeu', 9.333796175903101)\n",
      "(u'spirit-offspring', 9.333796175903101)\n",
      "(u'geysers', 9.333796175903101)\n",
      "(u'i-do', 9.333796175903101)\n"
     ]
    }
   ],
   "source": [
    "from math import log\n",
    "import operator\n",
    "\n",
    "def idf(data):\n",
    "    \"\"\" Returns a dictionary where the keys are words and the values are inverse\n",
    "        document frequencies.  For this function you should use the formula\n",
    "        idf(w, data) = log(N / |text in data that contain the word w|) \"\"\"\n",
    "    all_words = []\n",
    "    doc_num = float(len(data))\n",
    "    \n",
    "    for s in data:\n",
    "        words = set(get_word_list(s))\n",
    "        all_words.extend(words)\n",
    "    c = Counter(all_words)\n",
    "    return {k: log(doc_num / c[k]) for k in c}\n",
    "\n",
    "                  \n",
    "idf = idf(data.data)\n",
    "sorted_idf = sorted(idf.items(), key=operator.itemgetter(1))\n",
    "\n",
    "print \"Lowest IDF (most common)\"\n",
    "for d in sorted_idf[0:10]:\n",
    "    print d\n",
    "\n",
    "print \"\"\n",
    "print \"Highest IDF (least common)\"\n",
    "rev_sorted_idf = sorted(idf.items(), key=operator.itemgetter(1))\n",
    "for d in reversed(rev_sorted_idf[-10:]):\n",
    "    print d"
   ]
  },
  {
   "cell_type": "markdown",
   "metadata": {},
   "source": [
    "The last step in Tf-IDF is to compute the product of tf and IDF for each document, and then convert the resultant dictionary of Tf-IDF features into a vector.  We'll be discussing this next class."
   ]
  },
  {
   "cell_type": "markdown",
   "metadata": {},
   "source": [
    "## Clarifying Questions\n",
    "\n",
    "Use this space to ask questions regarding the content covered in the reading. These questions should be restricted to helping you better understand the material. For questions that push beyond what is in the reading, use the next answer field. If you don't have a fully formed question, but are generally having a difficult time with a topic, you can indicate that here as well."
   ]
  },
  {
   "cell_type": "markdown",
   "metadata": {},
   "source": []
  },
  {
   "cell_type": "markdown",
   "metadata": {},
   "source": [
    "## Enrichment Questions\n",
    "\n",
    "Use this space to ask any questions that go beyond (but are related to) the material presented in this reading. Perhaps there is a particular topic you'd like to see covered in more depth. Perhaps you'd like to know how to use a library in a way that wasn't show in the reading. One way to think about this is what additional topics would you want covered in the next class (or addressed in a followup e-mail to the class). I'm a little fuzzy on what stuff will likely go here, so we'll see how things evolve."
   ]
  },
  {
   "cell_type": "markdown",
   "metadata": {},
   "source": []
  },
  {
   "cell_type": "markdown",
   "metadata": {},
   "source": [
    "## Additional Resources / Explorations\n",
    "\n",
    "If you found any useful resources, or tried some useful exercises that you'd like to report please do so here. Let us know what you did, what you learned, and how others can replicate it."
   ]
  },
  {
   "cell_type": "markdown",
   "metadata": {},
   "source": []
  }
 ],
 "metadata": {
  "kernelspec": {
   "display_name": "Python 2",
   "language": "python",
   "name": "python2"
  },
  "language_info": {
   "codemirror_mode": {
    "name": "ipython",
    "version": 2
   },
   "file_extension": ".py",
   "mimetype": "text/x-python",
   "name": "python",
   "nbconvert_exporter": "python",
   "pygments_lexer": "ipython2",
   "version": "2.7.6"
  }
 },
 "nbformat": 4,
 "nbformat_minor": 0
}
